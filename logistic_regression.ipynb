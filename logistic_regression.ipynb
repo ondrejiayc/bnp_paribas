{
 "cells": [
  {
   "cell_type": "code",
   "execution_count": 336,
   "metadata": {
    "collapsed": true
   },
   "outputs": [],
   "source": [
    "import numpy as np\n",
    "import pandas as pd\n",
    "from sklearn import preprocessing as prep\n",
    "from sklearn.base import TransformerMixin\n",
    "from sklearn.cross_validation import train_test_split\n",
    "from sklearn.linear_model import LogisticRegression as LR\n",
    "from sklearn.svm import LinearSVC as LSVC\n",
    "from sklearn.ensemble import RandomForestClassifier as rFor\n",
    "from sklearn import cross_validation as cv\n",
    "from sklearn.decomposition import PCA\n",
    "\n",
    "from sklearn.preprocessing import StandardScaler as sScaler\n",
    "\n",
    "import matplotlib.pyplot as plt\n",
    "%matplotlib inline"
   ]
  },
  {
   "cell_type": "markdown",
   "metadata": {},
   "source": [
    "## Read in the data"
   ]
  },
  {
   "cell_type": "code",
   "execution_count": 368,
   "metadata": {
    "collapsed": false
   },
   "outputs": [
    {
     "data": {
      "text/plain": [
       "Index([u'v3', u'v22', u'v24', u'v30', u'v31', u'v47', u'v52', u'v56', u'v66',\n",
       "       u'v71', u'v74', u'v75', u'v79', u'v91', u'v107', u'v110', u'v112',\n",
       "       u'v113', u'v125'],\n",
       "      dtype='object')"
      ]
     },
     "execution_count": 368,
     "metadata": {},
     "output_type": "execute_result"
    }
   ],
   "source": [
    "data = pd.read_csv('data/train.csv')\n",
    " \n",
    "data.select_dtypes(include=['object']).keys()\n",
    "#pd.DataFrame(data.select_dtypes(include=['object'])).describe()"
   ]
  },
  {
   "cell_type": "code",
   "execution_count": 338,
   "metadata": {
    "collapsed": false
   },
   "outputs": [
    {
     "data": {
      "text/html": [
       "<div>\n",
       "<table border=\"1\" class=\"dataframe\">\n",
       "  <thead>\n",
       "    <tr style=\"text-align: right;\">\n",
       "      <th></th>\n",
       "      <th>v3</th>\n",
       "      <th>v22</th>\n",
       "      <th>v24</th>\n",
       "      <th>v30</th>\n",
       "      <th>v31</th>\n",
       "      <th>v47</th>\n",
       "      <th>v52</th>\n",
       "      <th>v56</th>\n",
       "      <th>v66</th>\n",
       "      <th>v71</th>\n",
       "      <th>v74</th>\n",
       "      <th>v75</th>\n",
       "      <th>v79</th>\n",
       "      <th>v91</th>\n",
       "      <th>v107</th>\n",
       "      <th>v110</th>\n",
       "      <th>v112</th>\n",
       "      <th>v113</th>\n",
       "      <th>v125</th>\n",
       "    </tr>\n",
       "  </thead>\n",
       "  <tbody>\n",
       "    <tr>\n",
       "      <th>count</th>\n",
       "      <td>110901</td>\n",
       "      <td>113916</td>\n",
       "      <td>114393</td>\n",
       "      <td>54051</td>\n",
       "      <td>110901</td>\n",
       "      <td>114393</td>\n",
       "      <td>114391</td>\n",
       "      <td>107475</td>\n",
       "      <td>114393</td>\n",
       "      <td>114393</td>\n",
       "      <td>114393</td>\n",
       "      <td>114393</td>\n",
       "      <td>114393</td>\n",
       "      <td>114391</td>\n",
       "      <td>114391</td>\n",
       "      <td>114393</td>\n",
       "      <td>113980</td>\n",
       "      <td>59035</td>\n",
       "      <td>114309</td>\n",
       "    </tr>\n",
       "    <tr>\n",
       "      <th>unique</th>\n",
       "      <td>3</td>\n",
       "      <td>18252</td>\n",
       "      <td>5</td>\n",
       "      <td>7</td>\n",
       "      <td>3</td>\n",
       "      <td>9</td>\n",
       "      <td>12</td>\n",
       "      <td>116</td>\n",
       "      <td>3</td>\n",
       "      <td>9</td>\n",
       "      <td>3</td>\n",
       "      <td>4</td>\n",
       "      <td>17</td>\n",
       "      <td>7</td>\n",
       "      <td>7</td>\n",
       "      <td>3</td>\n",
       "      <td>22</td>\n",
       "      <td>36</td>\n",
       "      <td>90</td>\n",
       "    </tr>\n",
       "    <tr>\n",
       "      <th>top</th>\n",
       "      <td>C</td>\n",
       "      <td>AGDF</td>\n",
       "      <td>E</td>\n",
       "      <td>C</td>\n",
       "      <td>A</td>\n",
       "      <td>C</td>\n",
       "      <td>J</td>\n",
       "      <td>BW</td>\n",
       "      <td>A</td>\n",
       "      <td>F</td>\n",
       "      <td>B</td>\n",
       "      <td>D</td>\n",
       "      <td>C</td>\n",
       "      <td>A</td>\n",
       "      <td>E</td>\n",
       "      <td>A</td>\n",
       "      <td>F</td>\n",
       "      <td>G</td>\n",
       "      <td>BM</td>\n",
       "    </tr>\n",
       "    <tr>\n",
       "      <th>freq</th>\n",
       "      <td>110640</td>\n",
       "      <td>2391</td>\n",
       "      <td>55179</td>\n",
       "      <td>32326</td>\n",
       "      <td>88590</td>\n",
       "      <td>55428</td>\n",
       "      <td>11349</td>\n",
       "      <td>11561</td>\n",
       "      <td>70375</td>\n",
       "      <td>75295</td>\n",
       "      <td>113668</td>\n",
       "      <td>75288</td>\n",
       "      <td>34705</td>\n",
       "      <td>26947</td>\n",
       "      <td>26947</td>\n",
       "      <td>55727</td>\n",
       "      <td>21717</td>\n",
       "      <td>16208</td>\n",
       "      <td>5855</td>\n",
       "    </tr>\n",
       "  </tbody>\n",
       "</table>\n",
       "</div>"
      ],
      "text/plain": [
       "            v3     v22     v24    v30     v31     v47     v52     v56     v66  \\\n",
       "count   110901  113916  114393  54051  110901  114393  114391  107475  114393   \n",
       "unique       3   18252       5      7       3       9      12     116       3   \n",
       "top          C    AGDF       E      C       A       C       J      BW       A   \n",
       "freq    110640    2391   55179  32326   88590   55428   11349   11561   70375   \n",
       "\n",
       "           v71     v74     v75     v79     v91    v107    v110    v112   v113  \\\n",
       "count   114393  114393  114393  114393  114391  114391  114393  113980  59035   \n",
       "unique       9       3       4      17       7       7       3      22     36   \n",
       "top          F       B       D       C       A       E       A       F      G   \n",
       "freq     75295  113668   75288   34705   26947   26947   55727   21717  16208   \n",
       "\n",
       "          v125  \n",
       "count   114309  \n",
       "unique      90  \n",
       "top         BM  \n",
       "freq      5855  "
      ]
     },
     "execution_count": 338,
     "metadata": {},
     "output_type": "execute_result"
    }
   ],
   "source": [
    "test = pd.read_csv('data/test.csv')\n",
    "\n",
    "pd.DataFrame(test.select_dtypes(include=['object'])).describe()"
   ]
  },
  {
   "cell_type": "markdown",
   "metadata": {},
   "source": [
    "## Fill in the NaN's"
   ]
  },
  {
   "cell_type": "code",
   "execution_count": 339,
   "metadata": {
    "collapsed": true
   },
   "outputs": [],
   "source": [
    "# taken from http://stackoverflow.com/questions/25239958/impute-categorical-missing-values-in-scikit-learn\n",
    "#updated for ints\n",
    "\n",
    "class DataFrameImputer(TransformerMixin):\n",
    "\n",
    "    def __init__(self):\n",
    "        \"\"\"Impute missing values.\n",
    "\n",
    "        Columns of dtype object are imputed with the most frequent value \n",
    "        in column.\n",
    "\n",
    "        Columns of other types are imputed with mean of column.\n",
    "\n",
    "        \"\"\"\n",
    "    def fit(self, X, y=None):\n",
    "\n",
    "        self.fill = pd.Series([X[c].value_counts().index[0]\n",
    "            if X[c].dtype == np.dtype('O') else X[c].mean() if X[c].dtype == np.dtype('float64') else X[c].median() \n",
    "                               for c in X],\n",
    "            index=X.columns)\n",
    "\n",
    "        return self\n",
    "\n",
    "    def transform(self, X, y=None):\n",
    "        return X.fillna(self.fill)\n",
    "    \n",
    "dataFilled = DataFrameImputer().fit_transform(data)\n",
    "testFilled = DataFrameImputer().fit_transform(test)"
   ]
  },
  {
   "cell_type": "markdown",
   "metadata": {},
   "source": [
    "## Transform categorical into integers"
   ]
  },
  {
   "cell_type": "code",
   "execution_count": 340,
   "metadata": {
    "collapsed": false
   },
   "outputs": [
    {
     "data": {
      "text/html": [
       "<div>\n",
       "<table border=\"1\" class=\"dataframe\">\n",
       "  <thead>\n",
       "    <tr style=\"text-align: right;\">\n",
       "      <th></th>\n",
       "      <th>ID</th>\n",
       "      <th>target</th>\n",
       "      <th>v1</th>\n",
       "      <th>v2</th>\n",
       "      <th>v3</th>\n",
       "      <th>v4</th>\n",
       "      <th>v5</th>\n",
       "      <th>v6</th>\n",
       "      <th>v7</th>\n",
       "      <th>v8</th>\n",
       "      <th>...</th>\n",
       "      <th>v122</th>\n",
       "      <th>v123</th>\n",
       "      <th>v124</th>\n",
       "      <th>v125</th>\n",
       "      <th>v126</th>\n",
       "      <th>v127</th>\n",
       "      <th>v128</th>\n",
       "      <th>v129</th>\n",
       "      <th>v130</th>\n",
       "      <th>v131</th>\n",
       "    </tr>\n",
       "  </thead>\n",
       "  <tbody>\n",
       "    <tr>\n",
       "      <th>0</th>\n",
       "      <td>3</td>\n",
       "      <td>1</td>\n",
       "      <td>1.335739</td>\n",
       "      <td>8.727474</td>\n",
       "      <td>2</td>\n",
       "      <td>3.921026</td>\n",
       "      <td>7.915266</td>\n",
       "      <td>2.599278</td>\n",
       "      <td>3.176895</td>\n",
       "      <td>0.012941</td>\n",
       "      <td>...</td>\n",
       "      <td>8.000000</td>\n",
       "      <td>1.989780</td>\n",
       "      <td>0.035754</td>\n",
       "      <td>21</td>\n",
       "      <td>1.804126</td>\n",
       "      <td>3.113719</td>\n",
       "      <td>2.024285</td>\n",
       "      <td>0</td>\n",
       "      <td>0.636365</td>\n",
       "      <td>2.857144</td>\n",
       "    </tr>\n",
       "    <tr>\n",
       "      <th>1</th>\n",
       "      <td>4</td>\n",
       "      <td>1</td>\n",
       "      <td>1.630686</td>\n",
       "      <td>7.464411</td>\n",
       "      <td>2</td>\n",
       "      <td>4.145098</td>\n",
       "      <td>9.191265</td>\n",
       "      <td>2.436402</td>\n",
       "      <td>2.483921</td>\n",
       "      <td>2.301630</td>\n",
       "      <td>...</td>\n",
       "      <td>6.822439</td>\n",
       "      <td>3.549938</td>\n",
       "      <td>0.598896</td>\n",
       "      <td>6</td>\n",
       "      <td>1.672658</td>\n",
       "      <td>3.239542</td>\n",
       "      <td>1.957825</td>\n",
       "      <td>0</td>\n",
       "      <td>1.925763</td>\n",
       "      <td>1.739389</td>\n",
       "    </tr>\n",
       "    <tr>\n",
       "      <th>2</th>\n",
       "      <td>5</td>\n",
       "      <td>1</td>\n",
       "      <td>0.943877</td>\n",
       "      <td>5.310079</td>\n",
       "      <td>2</td>\n",
       "      <td>4.410969</td>\n",
       "      <td>5.326159</td>\n",
       "      <td>3.979592</td>\n",
       "      <td>3.928571</td>\n",
       "      <td>0.019645</td>\n",
       "      <td>...</td>\n",
       "      <td>9.333333</td>\n",
       "      <td>2.477596</td>\n",
       "      <td>0.013452</td>\n",
       "      <td>5</td>\n",
       "      <td>1.773709</td>\n",
       "      <td>3.922193</td>\n",
       "      <td>1.120468</td>\n",
       "      <td>2</td>\n",
       "      <td>0.883118</td>\n",
       "      <td>1.176472</td>\n",
       "    </tr>\n",
       "    <tr>\n",
       "      <th>3</th>\n",
       "      <td>6</td>\n",
       "      <td>1</td>\n",
       "      <td>0.797415</td>\n",
       "      <td>8.304757</td>\n",
       "      <td>2</td>\n",
       "      <td>4.225930</td>\n",
       "      <td>11.627438</td>\n",
       "      <td>2.097700</td>\n",
       "      <td>1.987549</td>\n",
       "      <td>0.171947</td>\n",
       "      <td>...</td>\n",
       "      <td>7.018256</td>\n",
       "      <td>1.812795</td>\n",
       "      <td>0.002267</td>\n",
       "      <td>64</td>\n",
       "      <td>1.415230</td>\n",
       "      <td>2.954381</td>\n",
       "      <td>1.990847</td>\n",
       "      <td>1</td>\n",
       "      <td>1.677108</td>\n",
       "      <td>1.034483</td>\n",
       "    </tr>\n",
       "    <tr>\n",
       "      <th>4</th>\n",
       "      <td>8</td>\n",
       "      <td>1</td>\n",
       "      <td>1.630686</td>\n",
       "      <td>7.464411</td>\n",
       "      <td>2</td>\n",
       "      <td>4.145098</td>\n",
       "      <td>8.742359</td>\n",
       "      <td>2.436402</td>\n",
       "      <td>2.483921</td>\n",
       "      <td>1.496569</td>\n",
       "      <td>...</td>\n",
       "      <td>6.822439</td>\n",
       "      <td>3.549938</td>\n",
       "      <td>0.919812</td>\n",
       "      <td>89</td>\n",
       "      <td>1.672658</td>\n",
       "      <td>3.239542</td>\n",
       "      <td>2.030373</td>\n",
       "      <td>0</td>\n",
       "      <td>1.925763</td>\n",
       "      <td>1.739389</td>\n",
       "    </tr>\n",
       "  </tbody>\n",
       "</table>\n",
       "<p>5 rows × 133 columns</p>\n",
       "</div>"
      ],
      "text/plain": [
       "   ID  target        v1        v2  v3        v4         v5        v6  \\\n",
       "0   3       1  1.335739  8.727474   2  3.921026   7.915266  2.599278   \n",
       "1   4       1  1.630686  7.464411   2  4.145098   9.191265  2.436402   \n",
       "2   5       1  0.943877  5.310079   2  4.410969   5.326159  3.979592   \n",
       "3   6       1  0.797415  8.304757   2  4.225930  11.627438  2.097700   \n",
       "4   8       1  1.630686  7.464411   2  4.145098   8.742359  2.436402   \n",
       "\n",
       "         v7        v8    ...         v122      v123      v124  v125      v126  \\\n",
       "0  3.176895  0.012941    ...     8.000000  1.989780  0.035754    21  1.804126   \n",
       "1  2.483921  2.301630    ...     6.822439  3.549938  0.598896     6  1.672658   \n",
       "2  3.928571  0.019645    ...     9.333333  2.477596  0.013452     5  1.773709   \n",
       "3  1.987549  0.171947    ...     7.018256  1.812795  0.002267    64  1.415230   \n",
       "4  2.483921  1.496569    ...     6.822439  3.549938  0.919812    89  1.672658   \n",
       "\n",
       "       v127      v128  v129      v130      v131  \n",
       "0  3.113719  2.024285     0  0.636365  2.857144  \n",
       "1  3.239542  1.957825     0  1.925763  1.739389  \n",
       "2  3.922193  1.120468     2  0.883118  1.176472  \n",
       "3  2.954381  1.990847     1  1.677108  1.034483  \n",
       "4  3.239542  2.030373     0  1.925763  1.739389  \n",
       "\n",
       "[5 rows x 133 columns]"
      ]
     },
     "execution_count": 340,
     "metadata": {},
     "output_type": "execute_result"
    }
   ],
   "source": [
    "for col in dataFilled:\n",
    "    if dataFilled[col].dtype == 'O':\n",
    "        le = prep.LabelEncoder()\n",
    "        le.fit(np.append(dataFilled[col],testFilled[col]))\n",
    "        #print le.classes_\n",
    "        trns = le.transform(dataFilled[col])\n",
    "        dataFilled.loc[:,col] = trns\n",
    "        trns = le.transform(testFilled[col])\n",
    "        testFilled.loc[:,col] = trns\n",
    "\n",
    "dataFilled.head()"
   ]
  },
  {
   "cell_type": "code",
   "execution_count": 341,
   "metadata": {
    "collapsed": false
   },
   "outputs": [],
   "source": [
    "keys = set(dataFilled.keys())\n",
    "\n",
    "keys.remove('ID')\n",
    "keys.remove('target')\n",
    "\n",
    "X = dataFilled[list(keys)]\n",
    "\n",
    "scaler = sScaler()\n",
    "scaler.fit(X)\n",
    "\n",
    "scX = scaler.transform(X)\n",
    "y = dataFilled['target']\n",
    "\n",
    "keys = set(testFilled.keys())\n",
    "keys.remove('ID')\n",
    "\n",
    "testX = testFilled[list(keys)]"
   ]
  },
  {
   "cell_type": "code",
   "execution_count": 313,
   "metadata": {
    "collapsed": false
   },
   "outputs": [
    {
     "data": {
      "text/plain": [
       "LinearSVC(C=1.0, class_weight=None, dual=True, fit_intercept=True,\n",
       "     intercept_scaling=1, loss='squared_hinge', max_iter=1000,\n",
       "     multi_class='ovr', penalty='l2', random_state=None, tol=0.0001,\n",
       "     verbose=0)"
      ]
     },
     "execution_count": 313,
     "metadata": {},
     "output_type": "execute_result"
    }
   ],
   "source": [
    "X_train, X_test, y_train, y_test = train_test_split(scX, y)\n",
    "\n",
    "lr = LR(n_jobs = 4,max_iter = 2000)\n",
    "lr.fit(X_train,y_train)\n",
    "\n",
    "lsvc = LSVC()\n",
    "lsvc.fit(X_train,y_train)"
   ]
  },
  {
   "cell_type": "code",
   "execution_count": 314,
   "metadata": {
    "collapsed": false
   },
   "outputs": [
    {
     "name": "stdout",
     "output_type": "stream",
     "text": [
      "Linear regression score: 0.766\n",
      "SVM score: 0.762\n"
     ]
    }
   ],
   "source": [
    "print \"Linear regression score: %0.3f\" % (lr.score(X_test, y_test))\n",
    "print \"SVM score: %0.3f\" %(lsvc.score(X_test,y_test))"
   ]
  },
  {
   "cell_type": "code",
   "execution_count": 315,
   "metadata": {
    "collapsed": false
   },
   "outputs": [
    {
     "name": "stdout",
     "output_type": "stream",
     "text": [
      "[ 0.53917638  0.16436882  0.18138107 ...,  0.31999578  0.0768495\n",
      "  0.06497317]\n"
     ]
    }
   ],
   "source": [
    "print lr.predict_proba(X_test)[:,0]"
   ]
  },
  {
   "cell_type": "code",
   "execution_count": 316,
   "metadata": {
    "collapsed": false
   },
   "outputs": [
    {
     "data": {
      "text/plain": [
       "array([1, 1, 1, ..., 1, 1, 1])"
      ]
     },
     "execution_count": 316,
     "metadata": {},
     "output_type": "execute_result"
    }
   ],
   "source": [
    "lsvc.predict(X_test)"
   ]
  },
  {
   "cell_type": "code",
   "execution_count": 317,
   "metadata": {
    "collapsed": false
   },
   "outputs": [],
   "source": [
    "keys = set(testFilled.keys())\n",
    "keys.remove('ID')\n",
    "\n",
    "testData = testFilled[list(keys)]\n",
    "\n",
    "scTestData = scaler.transform(testData)\n",
    "\n",
    "output = {'ID': np.array(testFilled['ID']),'PredictedProb': lr.predict_proba(scTestData)[:,0]}\n",
    "\n",
    "output = pd.DataFrame(output)\n",
    "\n",
    "output.to_csv('submission.csv',index=False)"
   ]
  },
  {
   "cell_type": "code",
   "execution_count": 318,
   "metadata": {
    "collapsed": false
   },
   "outputs": [
    {
     "name": "stdout",
     "output_type": "stream",
     "text": [
      "(114393,)\n",
      "114366\n"
     ]
    }
   ],
   "source": [
    "print lr.predict(testData).shape\n",
    "print np.sum(lr.predict(testData))"
   ]
  },
  {
   "cell_type": "code",
   "execution_count": 298,
   "metadata": {
    "collapsed": false
   },
   "outputs": [
    {
     "name": "stdout",
     "output_type": "stream",
     "text": [
      "0.998227198507\n",
      "0.766768132676\n"
     ]
    }
   ],
   "source": [
    "forest = rFor(n_estimators=20,n_jobs=4)\n",
    "forest.fit(X_train,y_train)\n",
    "\n",
    "lr = LR(n_jobs = 4,max_iter = 2000)\n",
    "lr.fit(X_train,y_train)\n",
    "\n",
    "lsvc = LSVC()\n",
    "lsvc.fit(X_train,y_train)\n",
    "\n",
    "print forest.score(X_train,y_train)\n",
    "print forest.score(X_test,y_test)\n"
   ]
  },
  {
   "cell_type": "code",
   "execution_count": 319,
   "metadata": {
    "collapsed": false
   },
   "outputs": [
    {
     "name": "stdout",
     "output_type": "stream",
     "text": [
      "[ 0.76952681  0.77073128  0.76303359  0.76985654  0.77213086  0.77116865\n",
      "  0.76662001  0.77195591  0.77116865  0.76898181]\n"
     ]
    }
   ],
   "source": [
    "scores = cv.cross_val_score(forest, X, y, cv=10)\n",
    "print scores"
   ]
  },
  {
   "cell_type": "code",
   "execution_count": 320,
   "metadata": {
    "collapsed": false
   },
   "outputs": [
    {
     "name": "stdout",
     "output_type": "stream",
     "text": [
      "Accuracy: 0.77 (+/- 0.01)\n"
     ]
    }
   ],
   "source": [
    "print(\"Accuracy: %0.2f (+/- %0.2f)\" % (scores.mean(), scores.std() * 2))"
   ]
  },
  {
   "cell_type": "code",
   "execution_count": 357,
   "metadata": {
    "collapsed": true
   },
   "outputs": [],
   "source": [
    "Xsh = X.shape\n",
    "\n",
    "bigData = np.vstack([X,testX])\n",
    "bigData = prep.scale(bigData)\n",
    "\n",
    "pca = PCA(n_components=0.9)\n",
    "pca.fit(np.array(bigData))\n",
    "\n",
    "Xpca = pca.transform(bigData[:Xsh[0],:])\n",
    "testXpca = pca.transform(bigData[Xsh[0]:,:])\n"
   ]
  },
  {
   "cell_type": "code",
   "execution_count": 358,
   "metadata": {
    "collapsed": false
   },
   "outputs": [
    {
     "name": "stdout",
     "output_type": "stream",
     "text": [
      "[ 0.20730646  0.32585141  0.4058608   0.44721949  0.48748306  0.52442914\n",
      "  0.55504786  0.5797835   0.6037403   0.62335596  0.64140009  0.65862358\n",
      "  0.67535885  0.69098426  0.70605341  0.72070842  0.73400706  0.74656035\n",
      "  0.75848387  0.76957474  0.78032195  0.78980575  0.79898889  0.80796381\n",
      "  0.81651991  0.82465263  0.83240786  0.84003275  0.84762863  0.85501979\n",
      "  0.86236036  0.86951945  0.87648579  0.88313356  0.88973061  0.89574809\n",
      "  0.90151254]\n"
     ]
    }
   ],
   "source": [
    "print np.cumsum(pca.explained_variance_ratio_)"
   ]
  },
  {
   "cell_type": "code",
   "execution_count": 363,
   "metadata": {
    "collapsed": false
   },
   "outputs": [
    {
     "name": "stdout",
     "output_type": "stream",
     "text": [
      "Linear regression score: 0.760\n",
      "SVM score: 0.758\n",
      "Forest score: 0.764\n"
     ]
    }
   ],
   "source": [
    "X_train, X_test, y_train, y_test = train_test_split(Xpca, y)\n",
    "\n",
    "forest = rFor(n_estimators=100,n_jobs=4)\n",
    "forest.fit(X_train,y_train)\n",
    "\n",
    "lr = LR(n_jobs = 4,max_iter = 2000)\n",
    "lr.fit(X_train,y_train)\n",
    "\n",
    "lsvc = LSVC()\n",
    "lsvc.fit(X_train,y_train)\n",
    "\n",
    "print \"Linear regression score: %0.3f\" % (lr.score(X_test, y_test))\n",
    "print \"SVM score: %0.3f\" %(lsvc.score(X_test,y_test))\n",
    "print \"Forest score: %0.3f\" % (forest.score(X_test,y_test))\n"
   ]
  },
  {
   "cell_type": "code",
   "execution_count": 364,
   "metadata": {
    "collapsed": false
   },
   "outputs": [
    {
     "name": "stdout",
     "output_type": "stream",
     "text": [
      "[ 0.78299659  0.77958541  0.78378378  0.77932301  0.78955655  0.78457098\n",
      "  0.77984781  0.77801102  0.77381265  0.781947    0.78378378  0.78614537\n",
      "  0.77932301  0.79060614  0.77853582  0.78404618  0.78220939  0.781947\n",
      "  0.77722383  0.77355025  0.78404618  0.79028871  0.77664042  0.78136483\n",
      "  0.78635171  0.78267717  0.77611549  0.77480315  0.78215223  0.7855643 ]\n"
     ]
    }
   ],
   "source": [
    "scores = cv.cross_val_score(forest, X, y, cv=30)\n",
    "print scores"
   ]
  },
  {
   "cell_type": "code",
   "execution_count": 365,
   "metadata": {
    "collapsed": false
   },
   "outputs": [
    {
     "data": {
      "text/plain": [
       "0.7816936583399392"
      ]
     },
     "execution_count": 365,
     "metadata": {},
     "output_type": "execute_result"
    }
   ],
   "source": [
    "scores.mean()"
   ]
  },
  {
   "cell_type": "code",
   "execution_count": null,
   "metadata": {
    "collapsed": true
   },
   "outputs": [],
   "source": []
  }
 ],
 "metadata": {
  "kernelspec": {
   "display_name": "Python 2",
   "language": "python",
   "name": "python2"
  },
  "language_info": {
   "codemirror_mode": {
    "name": "ipython",
    "version": 2
   },
   "file_extension": ".py",
   "mimetype": "text/x-python",
   "name": "python",
   "nbconvert_exporter": "python",
   "pygments_lexer": "ipython2",
   "version": "2.7.11"
  }
 },
 "nbformat": 4,
 "nbformat_minor": 0
}
