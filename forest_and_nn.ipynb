{
 "cells": [
  {
   "cell_type": "code",
   "execution_count": 57,
   "metadata": {
    "collapsed": true
   },
   "outputs": [],
   "source": [
    "import pandas as pd\n",
    "import numpy as np\n",
    "import xgboost as xgb\n",
    "from sklearn.preprocessing import Imputer,LabelEncoder,StandardScaler\n",
    "from sklearn.base import TransformerMixin\n",
    "from sklearn.ensemble import ExtraTreesClassifier\n",
    "from sklearn.neural_network import BernoulliRBM\n",
    "\n",
    "from lasagne.layers import InputLayer, DropoutLayer, DenseLayer\n",
    "from lasagne.updates import nesterov_momentum\n",
    "from lasagne.objectives import binary_crossentropy\n",
    "from lasagne.init import Uniform\n",
    "from nolearn.lasagne import NeuralNet, BatchIterator\n",
    "import theano\n",
    "from theano import tensor as T\n",
    "from theano.tensor.nnet import sigmoid\n",
    "\n",
    "import matplotlib.pyplot as plt\n",
    "import corner\n",
    "\n",
    "%matplotlib inline"
   ]
  },
  {
   "cell_type": "code",
   "execution_count": 58,
   "metadata": {
    "collapsed": true
   },
   "outputs": [],
   "source": [
    "# taken from http://stackoverflow.com/questions/25239958/impute-categorical-missing-values-in-scikit-learn\n",
    "#updated for ints\n",
    "\n",
    "class DataFrameImputer(TransformerMixin):\n",
    "\n",
    "    def __init__(self):\n",
    "        \"\"\"Impute missing values.\n",
    "\n",
    "        Columns of dtype object are imputed with the most frequent value \n",
    "        in column.\n",
    "\n",
    "        Columns of other types are imputed with mean of column.\n",
    "\n",
    "        \"\"\"\n",
    "    def fit(self, X, y=None):\n",
    "\n",
    "        self.fill = pd.Series([X[c].value_counts().index[0]\n",
    "            if X[c].dtype == np.dtype('O') else X[c].mean() if X[c].dtype == np.dtype('float64') else X[c].median() \n",
    "                               for c in X],\n",
    "            index=X.columns)\n",
    "\n",
    "        return self\n",
    "\n",
    "    def transform(self, X, y=None):\n",
    "        return X.fillna(self.fill)\n"
   ]
  },
  {
   "cell_type": "code",
   "execution_count": 59,
   "metadata": {
    "collapsed": true
   },
   "outputs": [],
   "source": [
    "train = pd.read_csv('data/train.csv')\n",
    "test = pd.read_csv('data/test.csv')"
   ]
  },
  {
   "cell_type": "code",
   "execution_count": 60,
   "metadata": {
    "collapsed": false
   },
   "outputs": [
    {
     "data": {
      "text/plain": [
       "Index([u'v3', u'v22', u'v24', u'v30', u'v31', u'v47', u'v52', u'v56', u'v66',\n",
       "       u'v71', u'v74', u'v75', u'v79', u'v91', u'v107', u'v110', u'v112',\n",
       "       u'v113', u'v125'],\n",
       "      dtype='object')"
      ]
     },
     "execution_count": 60,
     "metadata": {},
     "output_type": "execute_result"
    }
   ],
   "source": [
    "train.select_dtypes(include=['object']).keys()"
   ]
  },
  {
   "cell_type": "code",
   "execution_count": 61,
   "metadata": {
    "collapsed": true
   },
   "outputs": [],
   "source": [
    "keysToUse = set(train.keys())\n",
    "\n",
    "keysToUse.remove('ID')\n",
    "keysToUse.remove('target')\n",
    "\n",
    "v22out = False\n",
    "\n",
    "if v22out:\n",
    "    keysToUse.remove('v22')\n",
    "\n",
    "keysToUse = list(keysToUse)\n",
    "\n",
    "nonNumericKeys = set(train.select_dtypes(include=['object']).keys())\n",
    "\n",
    "if v22out:\n",
    "    nonNumericKeys.remove('v22')\n",
    "\n",
    "nonNumericKeys = list(nonNumericKeys)"
   ]
  },
  {
   "cell_type": "code",
   "execution_count": 62,
   "metadata": {
    "collapsed": true
   },
   "outputs": [],
   "source": [
    "bigX = train[keysToUse].append(test[keysToUse])\n",
    "\n",
    "imput = False\n",
    "\n",
    "if imput:\n",
    "    bigXimputed = DataFrameImputer().fit_transform(bigX)\n",
    "    le = LabelEncoder()\n",
    "    for col in nonNumericKeys:\n",
    "        bigXimputed[col] = le.fit_transform(bigXimputed[col])\n",
    "    trainX = bigXimputed[:train.shape[0]].as_matrix()\n",
    "    testX = bigXimputed[train.shape[0]:].as_matrix()\n",
    "else:\n",
    "    for col in bigX:\n",
    "        if col in nonNumericKeys:\n",
    "            bigX[col], tmp_indexer = pd.factorize(bigX[col])\n",
    "        else:\n",
    "            bigX.loc[bigX[col].isnull(), col] = -9999 #train_series.mean()\n",
    "    trainX = bigX[:train.shape[0]].as_matrix()\n",
    "    testX = bigX[train.shape[0]:].as_matrix()"
   ]
  },
  {
   "cell_type": "code",
   "execution_count": 63,
   "metadata": {
    "collapsed": true
   },
   "outputs": [],
   "source": [
    "trainY = train['target']\n",
    "trainY32 = trainY.astype('int32')"
   ]
  },
  {
   "cell_type": "code",
   "execution_count": 64,
   "metadata": {
    "collapsed": false
   },
   "outputs": [
    {
     "name": "stdout",
     "output_type": "stream",
     "text": [
      "Done with XGBooster...\n"
     ]
    }
   ],
   "source": [
    "gbm = xgb.XGBClassifier(max_depth=10, n_estimators=900, learning_rate=0.04,nthread=4,subsample=0.9,\n",
    "                        colsample_bytree=0.9)\n",
    "gbm.fit(trainX, trainY)\n",
    "\n",
    "predictions = gbm.predict_proba(testX)[:,1]\n",
    "\n",
    "print 'Done with XGBooster...'"
   ]
  },
  {
   "cell_type": "code",
   "execution_count": 65,
   "metadata": {
    "collapsed": false
   },
   "outputs": [
    {
     "name": "stdout",
     "output_type": "stream",
     "text": [
      "Done with ExtraTrees...\n"
     ]
    }
   ],
   "source": [
    "ext = ExtraTreesClassifier(n_estimators=900,max_features=100,n_jobs=4,criterion= 'entropy', min_samples_split= 4,\n",
    "                            max_depth=20, min_samples_leaf=2)\n",
    "\n",
    "ext.fit(trainX,trainY)\n",
    "\n",
    "predictions = np.vstack([predictions,ext.predict_proba(testX)[:,1]])\n",
    "\n",
    "print 'Done with ExtraTrees...'"
   ]
  },
  {
   "cell_type": "code",
   "execution_count": 66,
   "metadata": {
    "collapsed": true
   },
   "outputs": [],
   "source": [
    "# aken from https://www.kaggle.com/ouranos/bnp-paribas-cardif-claims-management/lasagne-nn/run/165162/code\n",
    "\n",
    "class AdjustVariable(object):\n",
    "    def __init__(self, name, start=0.03, stop=0.001):\n",
    "        self.name = name\n",
    "        self.start, self.stop = start, stop\n",
    "        self.ls = None\n",
    "\n",
    "    def __call__(self, nn, train_history):\n",
    "        if self.ls is None:\n",
    "            self.ls = np.linspace(self.start, self.stop, nn.max_epochs)\n",
    "\n",
    "        epoch = train_history[-1]['epoch']\n",
    "        new_value = np.float64(self.ls[epoch - 1])\n",
    "        getattr(nn, self.name).set_value(new_value)\n"
   ]
  },
  {
   "cell_type": "code",
   "execution_count": 67,
   "metadata": {
    "collapsed": true
   },
   "outputs": [],
   "source": [
    "scaler = StandardScaler()\n",
    "scaler.fit(trainX)\n",
    "\n",
    "trainXsc = scaler.transform(trainX)\n",
    "testXsc = scaler.transform(testX)"
   ]
  },
  {
   "cell_type": "code",
   "execution_count": 68,
   "metadata": {
    "collapsed": false
   },
   "outputs": [],
   "source": [
    "#consider not dropping these\n",
    "\n",
    "#trainXsc.drop(labels = \"v22\", axis = 1, inplace = True)\n",
    "#testXsc.drop(labels = \"v22\", axis = 1, inplace = True)\n"
   ]
  },
  {
   "cell_type": "code",
   "execution_count": 69,
   "metadata": {
    "collapsed": false
   },
   "outputs": [
    {
     "name": "stdout",
     "output_type": "stream",
     "text": [
      "# Neural Network with 23401 learnable parameters\n",
      "\n",
      "## Layer information\n",
      "\n",
      "  #  name        size\n",
      "---  --------  ------\n",
      "  0  input        131\n",
      "  1  dropout0     131\n",
      "  2  hidden1      100\n",
      "  3  dropout1     100\n",
      "  4  hidden2      100\n",
      "  5  output         1\n",
      "\n",
      "  epoch    train loss    valid loss    train/val  dur\n",
      "-------  ------------  ------------  -----------  -----\n",
      "      1       \u001b[36m0.60435\u001b[0m       \u001b[32m0.55509\u001b[0m      1.08873  1.34s\n",
      "      2       \u001b[36m0.55102\u001b[0m       \u001b[32m0.54904\u001b[0m      1.00360  1.36s\n",
      "      3       \u001b[36m0.54653\u001b[0m       \u001b[32m0.54570\u001b[0m      1.00152  1.38s\n",
      "      4       \u001b[36m0.54333\u001b[0m       \u001b[32m0.54252\u001b[0m      1.00148  1.34s\n",
      "      5       \u001b[36m0.54026\u001b[0m       \u001b[32m0.53960\u001b[0m      1.00123  1.32s\n",
      "      6       \u001b[36m0.53806\u001b[0m       \u001b[32m0.53701\u001b[0m      1.00194  1.33s\n",
      "      7       \u001b[36m0.53564\u001b[0m       \u001b[32m0.53475\u001b[0m      1.00168  1.33s\n",
      "      8       \u001b[36m0.53364\u001b[0m       \u001b[32m0.53282\u001b[0m      1.00154  1.31s\n",
      "      9       \u001b[36m0.53226\u001b[0m       \u001b[32m0.53124\u001b[0m      1.00192  1.32s\n",
      "     10       \u001b[36m0.53049\u001b[0m       \u001b[32m0.52987\u001b[0m      1.00116  1.31s\n",
      "     11       \u001b[36m0.52936\u001b[0m       \u001b[32m0.52869\u001b[0m      1.00127  1.33s\n",
      "     12       \u001b[36m0.52837\u001b[0m       \u001b[32m0.52773\u001b[0m      1.00121  1.30s\n",
      "     13       \u001b[36m0.52718\u001b[0m       \u001b[32m0.52682\u001b[0m      1.00068  1.30s\n",
      "     14       \u001b[36m0.52679\u001b[0m       \u001b[32m0.52609\u001b[0m      1.00133  1.30s\n",
      "     15       \u001b[36m0.52588\u001b[0m       \u001b[32m0.52549\u001b[0m      1.00075  1.30s\n",
      "     16       \u001b[36m0.52568\u001b[0m       \u001b[32m0.52495\u001b[0m      1.00139  1.30s\n",
      "     17       \u001b[36m0.52528\u001b[0m       \u001b[32m0.52448\u001b[0m      1.00153  1.30s\n",
      "     18       \u001b[36m0.52434\u001b[0m       \u001b[32m0.52409\u001b[0m      1.00049  1.31s\n",
      "     19       \u001b[36m0.52405\u001b[0m       \u001b[32m0.52375\u001b[0m      1.00057  1.30s\n",
      "     20       0.52437       \u001b[32m0.52349\u001b[0m      1.00169  1.30s\n",
      "     21       \u001b[36m0.52354\u001b[0m       \u001b[32m0.52323\u001b[0m      1.00060  1.30s\n",
      "     22       \u001b[36m0.52346\u001b[0m       \u001b[32m0.52298\u001b[0m      1.00092  1.31s\n",
      "     23       \u001b[36m0.52238\u001b[0m       \u001b[32m0.52275\u001b[0m      0.99929  1.33s\n",
      "     24       0.52247       \u001b[32m0.52256\u001b[0m      0.99982  1.31s\n",
      "     25       \u001b[36m0.52219\u001b[0m       \u001b[32m0.52239\u001b[0m      0.99962  1.32s\n",
      "     26       0.52264       \u001b[32m0.52229\u001b[0m      1.00067  1.31s\n",
      "     27       \u001b[36m0.52189\u001b[0m       \u001b[32m0.52211\u001b[0m      0.99957  1.31s\n",
      "     28       0.52219       \u001b[32m0.52198\u001b[0m      1.00042  1.32s\n",
      "     29       \u001b[36m0.52144\u001b[0m       \u001b[32m0.52182\u001b[0m      0.99929  1.32s\n",
      "     30       0.52171       \u001b[32m0.52169\u001b[0m      1.00003  1.31s\n",
      "     31       0.52173       \u001b[32m0.52158\u001b[0m      1.00029  1.32s\n",
      "     32       \u001b[36m0.52119\u001b[0m       \u001b[32m0.52147\u001b[0m      0.99945  1.32s\n",
      "     33       0.52124       \u001b[32m0.52138\u001b[0m      0.99973  1.31s\n",
      "     34       0.52132       \u001b[32m0.52133\u001b[0m      0.99997  1.32s\n",
      "     35       \u001b[36m0.52088\u001b[0m       \u001b[32m0.52125\u001b[0m      0.99928  1.32s\n",
      "     36       0.52127       \u001b[32m0.52121\u001b[0m      1.00013  1.32s\n",
      "     37       0.52092       \u001b[32m0.52112\u001b[0m      0.99960  1.33s\n",
      "     38       \u001b[36m0.52050\u001b[0m       \u001b[32m0.52100\u001b[0m      0.99904  1.32s\n",
      "     39       \u001b[36m0.52040\u001b[0m       \u001b[32m0.52093\u001b[0m      0.99898  1.32s\n",
      "     40       0.52051       \u001b[32m0.52085\u001b[0m      0.99934  1.32s\n",
      "     41       \u001b[36m0.52035\u001b[0m       \u001b[32m0.52079\u001b[0m      0.99915  1.33s\n",
      "     42       0.52048       \u001b[32m0.52071\u001b[0m      0.99955  1.32s\n",
      "     43       \u001b[36m0.52004\u001b[0m       \u001b[32m0.52062\u001b[0m      0.99888  1.33s\n",
      "     44       0.52028       \u001b[32m0.52059\u001b[0m      0.99940  1.32s\n",
      "     45       0.52023       \u001b[32m0.52050\u001b[0m      0.99947  1.32s\n",
      "     46       0.52020       \u001b[32m0.52045\u001b[0m      0.99950  1.33s\n",
      "     47       0.52056       \u001b[32m0.52039\u001b[0m      1.00033  1.32s\n",
      "     48       0.52033       \u001b[32m0.52034\u001b[0m      0.99999  1.31s\n",
      "     49       0.52023       \u001b[32m0.52030\u001b[0m      0.99987  1.32s\n",
      "     50       0.52026       \u001b[32m0.52028\u001b[0m      0.99997  1.32s\n",
      "     51       \u001b[36m0.51957\u001b[0m       \u001b[32m0.52017\u001b[0m      0.99884  1.41s\n",
      "     52       0.51962       \u001b[32m0.52014\u001b[0m      0.99900  1.46s\n",
      "     53       \u001b[36m0.51951\u001b[0m       \u001b[32m0.52007\u001b[0m      0.99892  1.37s\n",
      "     54       \u001b[36m0.51935\u001b[0m       \u001b[32m0.52003\u001b[0m      0.99870  1.35s\n",
      "     55       0.52006       \u001b[32m0.52002\u001b[0m      1.00008  1.35s\n",
      "     56       0.51978       \u001b[32m0.51998\u001b[0m      0.99962  1.34s\n",
      "     57       0.51988       \u001b[32m0.51994\u001b[0m      0.99988  1.33s\n",
      "     58       0.51991       \u001b[32m0.51985\u001b[0m      1.00010  1.39s\n",
      "     59       0.51997       \u001b[32m0.51984\u001b[0m      1.00025  1.35s\n",
      "     60       0.51956       \u001b[32m0.51980\u001b[0m      0.99953  1.35s\n",
      "     61       \u001b[36m0.51914\u001b[0m       \u001b[32m0.51976\u001b[0m      0.99880  1.32s\n",
      "     62       0.51965       \u001b[32m0.51975\u001b[0m      0.99982  1.44s\n",
      "     63       \u001b[36m0.51876\u001b[0m       \u001b[32m0.51966\u001b[0m      0.99826  1.36s\n",
      "     64       0.51914       \u001b[32m0.51963\u001b[0m      0.99906  1.31s\n",
      "     65       0.51904       \u001b[32m0.51961\u001b[0m      0.99891  1.33s\n",
      "     66       0.51921       \u001b[32m0.51955\u001b[0m      0.99935  1.34s\n",
      "     67       0.51951       \u001b[32m0.51951\u001b[0m      1.00000  1.31s\n",
      "     68       0.51899       \u001b[32m0.51948\u001b[0m      0.99905  1.33s\n",
      "     69       0.51929       \u001b[32m0.51946\u001b[0m      0.99967  1.33s\n",
      "     70       0.51918       \u001b[32m0.51939\u001b[0m      0.99959  1.32s\n",
      "     71       0.51900       \u001b[32m0.51937\u001b[0m      0.99930  1.32s\n",
      "     72       \u001b[36m0.51868\u001b[0m       \u001b[32m0.51935\u001b[0m      0.99871  1.34s\n",
      "     73       0.51896       \u001b[32m0.51934\u001b[0m      0.99926  1.33s\n",
      "     74       0.51897       \u001b[32m0.51929\u001b[0m      0.99938  1.33s\n",
      "     75       0.51881       \u001b[32m0.51926\u001b[0m      0.99913  1.33s\n",
      "     76       0.51926       \u001b[32m0.51921\u001b[0m      1.00010  1.33s\n",
      "     77       \u001b[36m0.51854\u001b[0m       \u001b[32m0.51916\u001b[0m      0.99880  1.32s\n",
      "     78       0.51871       \u001b[32m0.51913\u001b[0m      0.99919  1.33s\n",
      "     79       0.51877       \u001b[32m0.51911\u001b[0m      0.99934  1.34s\n",
      "     80       0.51872       \u001b[32m0.51908\u001b[0m      0.99932  1.32s\n",
      "     81       0.51880       \u001b[32m0.51905\u001b[0m      0.99953  1.37s\n",
      "     82       0.51874       0.51905      0.99940  1.38s\n",
      "     83       0.51866       \u001b[32m0.51900\u001b[0m      0.99934  1.32s\n",
      "     84       \u001b[36m0.51850\u001b[0m       \u001b[32m0.51897\u001b[0m      0.99909  1.33s\n",
      "     85       0.51852       \u001b[32m0.51896\u001b[0m      0.99916  1.33s\n",
      "     86       \u001b[36m0.51829\u001b[0m       \u001b[32m0.51892\u001b[0m      0.99878  1.35s\n",
      "     87       \u001b[36m0.51814\u001b[0m       \u001b[32m0.51890\u001b[0m      0.99853  1.34s\n",
      "     88       0.51826       \u001b[32m0.51886\u001b[0m      0.99885  1.33s\n",
      "     89       0.51846       \u001b[32m0.51884\u001b[0m      0.99927  1.33s\n",
      "     90       0.51827       \u001b[32m0.51883\u001b[0m      0.99892  1.34s\n",
      "     91       0.51862       \u001b[32m0.51881\u001b[0m      0.99964  1.32s\n",
      "     92       0.51818       \u001b[32m0.51878\u001b[0m      0.99885  1.34s\n",
      "     93       0.51838       \u001b[32m0.51877\u001b[0m      0.99925  1.34s\n",
      "     94       0.51815       \u001b[32m0.51876\u001b[0m      0.99882  1.34s\n",
      "     95       \u001b[36m0.51789\u001b[0m       \u001b[32m0.51874\u001b[0m      0.99837  1.33s\n",
      "     96       0.51791       \u001b[32m0.51871\u001b[0m      0.99845  1.34s\n",
      "     97       \u001b[36m0.51761\u001b[0m       \u001b[32m0.51868\u001b[0m      0.99794  1.32s\n",
      "     98       \u001b[36m0.51757\u001b[0m       \u001b[32m0.51866\u001b[0m      0.99791  1.32s\n",
      "     99       0.51784       \u001b[32m0.51863\u001b[0m      0.99847  1.35s\n",
      "    100       0.51810       \u001b[32m0.51862\u001b[0m      0.99900  1.32s\n",
      "    101       0.51781       \u001b[32m0.51859\u001b[0m      0.99848  1.33s\n",
      "    102       \u001b[36m0.51752\u001b[0m       \u001b[32m0.51857\u001b[0m      0.99796  1.34s\n",
      "    103       0.51769       \u001b[32m0.51855\u001b[0m      0.99835  1.34s\n",
      "    104       0.51759       \u001b[32m0.51852\u001b[0m      0.99822  1.34s\n",
      "    105       0.51790       \u001b[32m0.51848\u001b[0m      0.99889  1.33s\n",
      "    106       0.51756       0.51851      0.99817  1.36s\n",
      "    107       0.51843       0.51851      0.99986  1.33s\n",
      "    108       0.51763       \u001b[32m0.51845\u001b[0m      0.99842  1.33s\n",
      "    109       0.51754       \u001b[32m0.51841\u001b[0m      0.99832  1.36s\n",
      "    110       \u001b[36m0.51746\u001b[0m       0.51841      0.99817  1.35s\n",
      "    111       0.51748       \u001b[32m0.51837\u001b[0m      0.99828  1.33s\n",
      "    112       0.51759       \u001b[32m0.51837\u001b[0m      0.99851  1.32s\n",
      "    113       0.51793       \u001b[32m0.51836\u001b[0m      0.99918  1.34s\n",
      "    114       0.51782       \u001b[32m0.51833\u001b[0m      0.99900  1.33s\n",
      "    115       0.51765       \u001b[32m0.51831\u001b[0m      0.99873  1.34s\n",
      "    116       \u001b[36m0.51718\u001b[0m       \u001b[32m0.51828\u001b[0m      0.99787  1.35s\n",
      "    117       0.51763       \u001b[32m0.51826\u001b[0m      0.99877  1.34s\n",
      "    118       0.51764       \u001b[32m0.51825\u001b[0m      0.99882  1.32s\n",
      "    119       0.51724       \u001b[32m0.51821\u001b[0m      0.99813  1.35s\n",
      "    120       0.51731       \u001b[32m0.51818\u001b[0m      0.99834  1.33s\n",
      "    121       0.51756       \u001b[32m0.51815\u001b[0m      0.99886  1.33s\n",
      "    122       0.51754       \u001b[32m0.51814\u001b[0m      0.99885  1.33s\n",
      "    123       0.51759       \u001b[32m0.51811\u001b[0m      0.99900  1.33s\n",
      "    124       0.51770       \u001b[32m0.51810\u001b[0m      0.99923  1.33s\n",
      "    125       0.51786       \u001b[32m0.51808\u001b[0m      0.99957  1.34s\n",
      "    126       0.51735       0.51809      0.99858  1.34s\n",
      "    127       0.51736       \u001b[32m0.51808\u001b[0m      0.99861  1.32s\n",
      "    128       0.51751       \u001b[32m0.51805\u001b[0m      0.99896  1.32s\n",
      "    129       0.51739       \u001b[32m0.51804\u001b[0m      0.99875  1.32s\n",
      "    130       0.51733       \u001b[32m0.51801\u001b[0m      0.99869  1.32s\n",
      "    131       \u001b[36m0.51687\u001b[0m       \u001b[32m0.51798\u001b[0m      0.99785  1.33s\n",
      "    132       0.51706       \u001b[32m0.51794\u001b[0m      0.99829  1.33s\n",
      "    133       0.51737       \u001b[32m0.51794\u001b[0m      0.99891  1.33s\n",
      "    134       0.51702       \u001b[32m0.51792\u001b[0m      0.99826  1.32s\n",
      "    135       0.51696       \u001b[32m0.51791\u001b[0m      0.99817  1.32s\n",
      "    136       0.51743       \u001b[32m0.51789\u001b[0m      0.99911  1.33s\n",
      "    137       0.51726       \u001b[32m0.51785\u001b[0m      0.99885  1.34s\n",
      "    138       0.51726       \u001b[32m0.51784\u001b[0m      0.99887  1.33s\n",
      "    139       0.51709       \u001b[32m0.51779\u001b[0m      0.99864  1.33s\n",
      "    140       0.51703       \u001b[32m0.51777\u001b[0m      0.99856  1.33s\n",
      "    141       0.51722       \u001b[32m0.51775\u001b[0m      0.99897  1.34s\n",
      "    142       0.51719       0.51777      0.99888  1.32s\n",
      "    143       0.51698       \u001b[32m0.51774\u001b[0m      0.99852  1.34s\n",
      "    144       0.51713       \u001b[32m0.51774\u001b[0m      0.99881  1.33s\n",
      "    145       \u001b[36m0.51686\u001b[0m       \u001b[32m0.51773\u001b[0m      0.99832  1.32s\n",
      "    146       0.51690       0.51774      0.99837  1.33s\n",
      "    147       0.51698       \u001b[32m0.51772\u001b[0m      0.99858  1.35s\n",
      "    148       \u001b[36m0.51650\u001b[0m       \u001b[32m0.51769\u001b[0m      0.99771  1.33s\n",
      "    149       0.51679       0.51771      0.99821  1.32s\n",
      "    150       0.51698       0.51772      0.99858  1.34s\n",
      "    151       0.51734       0.51769      0.99932  1.32s\n",
      "    152       0.51659       \u001b[32m0.51767\u001b[0m      0.99791  1.32s\n",
      "    153       0.51681       0.51768      0.99832  1.33s\n",
      "    154       0.51680       \u001b[32m0.51762\u001b[0m      0.99841  1.33s\n",
      "    155       0.51675       0.51763      0.99830  1.33s\n",
      "    156       0.51653       \u001b[32m0.51759\u001b[0m      0.99795  1.34s\n",
      "    157       0.51683       \u001b[32m0.51758\u001b[0m      0.99854  1.33s\n",
      "    158       0.51689       \u001b[32m0.51758\u001b[0m      0.99868  1.32s\n",
      "    159       0.51666       \u001b[32m0.51757\u001b[0m      0.99824  1.34s\n",
      "    160       \u001b[36m0.51620\u001b[0m       \u001b[32m0.51751\u001b[0m      0.99747  1.35s\n",
      "    161       0.51633       \u001b[32m0.51750\u001b[0m      0.99774  1.33s\n",
      "    162       0.51650       0.51750      0.99805  1.32s\n",
      "    163       0.51688       0.51751      0.99878  1.32s\n",
      "    164       0.51631       \u001b[32m0.51747\u001b[0m      0.99776  1.34s\n",
      "    165       0.51638       0.51748      0.99789  1.33s\n",
      "    166       0.51625       \u001b[32m0.51744\u001b[0m      0.99771  1.32s\n",
      "    167       0.51638       \u001b[32m0.51744\u001b[0m      0.99796  1.34s\n",
      "    168       0.51636       0.51744      0.99791  1.32s\n",
      "    169       \u001b[36m0.51610\u001b[0m       \u001b[32m0.51742\u001b[0m      0.99746  1.38s\n",
      "    170       0.51645       \u001b[32m0.51738\u001b[0m      0.99821  1.35s\n",
      "    171       0.51647       \u001b[32m0.51736\u001b[0m      0.99827  1.34s\n",
      "    172       0.51640       \u001b[32m0.51734\u001b[0m      0.99818  1.34s\n",
      "    173       0.51663       \u001b[32m0.51733\u001b[0m      0.99866  1.32s\n",
      "    174       0.51637       0.51734      0.99813  1.34s\n",
      "    175       0.51664       0.51734      0.99866  1.33s\n",
      "    176       0.51663       \u001b[32m0.51730\u001b[0m      0.99870  1.33s\n",
      "    177       0.51676       \u001b[32m0.51726\u001b[0m      0.99903  1.34s\n",
      "    178       0.51648       \u001b[32m0.51723\u001b[0m      0.99855  1.33s\n",
      "    179       0.51613       0.51729      0.99777  1.32s\n",
      "    180       0.51615       0.51725      0.99787  1.33s\n",
      "    181       0.51652       0.51725      0.99858  1.35s\n",
      "    182       0.51629       \u001b[32m0.51721\u001b[0m      0.99821  1.33s\n",
      "    183       0.51666       \u001b[32m0.51718\u001b[0m      0.99900  1.34s\n",
      "    184       \u001b[36m0.51606\u001b[0m       0.51719      0.99782  1.34s\n",
      "    185       0.51620       \u001b[32m0.51717\u001b[0m      0.99812  1.33s\n",
      "    186       0.51613       \u001b[32m0.51716\u001b[0m      0.99801  1.34s\n",
      "    187       0.51650       \u001b[32m0.51715\u001b[0m      0.99873  1.34s\n",
      "    188       \u001b[36m0.51579\u001b[0m       0.51717      0.99734  1.34s\n",
      "    189       0.51640       \u001b[32m0.51714\u001b[0m      0.99856  1.34s\n",
      "    190       0.51646       \u001b[32m0.51712\u001b[0m      0.99874  1.34s\n",
      "    191       0.51664       0.51713      0.99905  1.34s\n",
      "    192       0.51588       0.51713      0.99759  1.34s\n",
      "    193       0.51608       0.51712      0.99799  1.32s\n",
      "    194       0.51616       \u001b[32m0.51707\u001b[0m      0.99824  1.36s\n",
      "    195       0.51607       \u001b[32m0.51706\u001b[0m      0.99810  1.34s\n",
      "    196       0.51613       \u001b[32m0.51703\u001b[0m      0.99825  1.33s\n",
      "    197       0.51594       0.51703      0.99789  1.32s\n",
      "    198       0.51609       0.51705      0.99815  1.34s\n",
      "    199       0.51602       \u001b[32m0.51700\u001b[0m      0.99811  1.33s\n",
      "    200       0.51617       \u001b[32m0.51699\u001b[0m      0.99840  1.34s\n",
      "    201       \u001b[36m0.51577\u001b[0m       0.51700      0.99761  1.34s\n",
      "    202       0.51578       0.51701      0.99764  1.33s\n",
      "    203       0.51603       \u001b[32m0.51698\u001b[0m      0.99817  1.34s\n",
      "    204       0.51595       \u001b[32m0.51692\u001b[0m      0.99812  1.36s\n",
      "    205       0.51613       0.51695      0.99841  1.33s\n",
      "    206       0.51585       \u001b[32m0.51691\u001b[0m      0.99795  1.33s\n",
      "    207       \u001b[36m0.51546\u001b[0m       \u001b[32m0.51688\u001b[0m      0.99725  1.33s\n",
      "    208       0.51598       0.51694      0.99814  1.34s\n",
      "    209       0.51581       \u001b[32m0.51685\u001b[0m      0.99799  1.35s\n",
      "    210       0.51580       0.51688      0.99791  1.34s\n",
      "    211       0.51568       \u001b[32m0.51684\u001b[0m      0.99774  1.34s\n",
      "    212       0.51572       0.51685      0.99782  1.34s\n",
      "    213       0.51601       0.51685      0.99839  1.33s\n",
      "    214       0.51586       0.51686      0.99808  1.35s\n",
      "    215       0.51602       \u001b[32m0.51680\u001b[0m      0.99849  1.33s\n",
      "    216       0.51554       \u001b[32m0.51675\u001b[0m      0.99766  1.33s\n",
      "    217       0.51619       \u001b[32m0.51673\u001b[0m      0.99896  1.33s\n",
      "    218       0.51577       \u001b[32m0.51673\u001b[0m      0.99815  1.35s\n",
      "    219       0.51574       \u001b[32m0.51670\u001b[0m      0.99814  1.33s\n",
      "    220       0.51565       \u001b[32m0.51666\u001b[0m      0.99804  1.33s\n",
      "    221       \u001b[36m0.51546\u001b[0m       0.51669      0.99762  1.34s\n",
      "    222       0.51560       0.51668      0.99790  1.34s\n",
      "    223       \u001b[36m0.51545\u001b[0m       \u001b[32m0.51665\u001b[0m      0.99768  1.33s\n",
      "    224       0.51562       \u001b[32m0.51661\u001b[0m      0.99809  1.34s\n",
      "    225       \u001b[36m0.51485\u001b[0m       0.51661      0.99659  1.33s\n",
      "    226       0.51557       \u001b[32m0.51661\u001b[0m      0.99799  1.34s\n",
      "    227       0.51544       \u001b[32m0.51659\u001b[0m      0.99777  1.44s\n",
      "    228       0.51591       \u001b[32m0.51655\u001b[0m      0.99877  1.33s\n",
      "    229       0.51532       0.51660      0.99752  1.33s\n",
      "    230       0.51589       0.51661      0.99861  1.34s\n",
      "    231       0.51570       \u001b[32m0.51651\u001b[0m      0.99843  1.35s\n",
      "    232       0.51540       0.51651      0.99785  1.33s\n",
      "    233       0.51580       0.51653      0.99860  1.34s\n",
      "    234       0.51553       0.51654      0.99804  1.34s\n",
      "    235       0.51572       0.51652      0.99846  1.34s\n",
      "    236       0.51572       \u001b[32m0.51651\u001b[0m      0.99847  1.34s\n",
      "    237       0.51503       \u001b[32m0.51646\u001b[0m      0.99724  1.39s\n",
      "    238       0.51563       0.51652      0.99828  1.33s\n",
      "    239       0.51521       0.51650      0.99751  1.36s\n",
      "    240       0.51541       0.51650      0.99789  1.34s\n",
      "    241       0.51543       \u001b[32m0.51645\u001b[0m      0.99802  1.34s\n",
      "    242       0.51544       \u001b[32m0.51642\u001b[0m      0.99809  1.33s\n",
      "    243       \u001b[36m0.51472\u001b[0m       0.51642      0.99669  1.33s\n",
      "    244       0.51531       \u001b[32m0.51640\u001b[0m      0.99788  1.34s\n",
      "    245       0.51550       \u001b[32m0.51640\u001b[0m      0.99827  1.34s\n",
      "    246       0.51541       \u001b[32m0.51640\u001b[0m      0.99809  1.34s\n",
      "    247       0.51506       \u001b[32m0.51633\u001b[0m      0.99752  1.34s\n",
      "    248       0.51495       0.51636      0.99728  1.34s\n",
      "    249       0.51513       0.51635      0.99764  1.35s\n",
      "    250       0.51532       \u001b[32m0.51632\u001b[0m      0.99808  1.33s\n",
      "    251       0.51499       0.51634      0.99738  1.34s\n",
      "    252       0.51511       \u001b[32m0.51632\u001b[0m      0.99767  1.34s\n",
      "    253       0.51505       0.51632      0.99755  1.33s\n",
      "    254       0.51515       0.51635      0.99768  1.34s\n",
      "    255       0.51498       \u001b[32m0.51630\u001b[0m      0.99745  1.34s\n",
      "    256       0.51558       0.51631      0.99860  1.33s\n",
      "    257       0.51504       \u001b[32m0.51627\u001b[0m      0.99761  1.35s\n",
      "    258       0.51511       \u001b[32m0.51624\u001b[0m      0.99780  1.34s\n",
      "    259       0.51525       0.51629      0.99799  1.35s\n",
      "    260       0.51510       \u001b[32m0.51622\u001b[0m      0.99783  1.35s\n",
      "    261       0.51554       \u001b[32m0.51622\u001b[0m      0.99869  1.35s\n",
      "    262       0.51529       0.51622      0.99820  1.34s\n",
      "    263       0.51503       \u001b[32m0.51620\u001b[0m      0.99773  1.35s\n",
      "    264       0.51488       \u001b[32m0.51618\u001b[0m      0.99748  1.34s\n",
      "    265       0.51490       \u001b[32m0.51615\u001b[0m      0.99758  1.34s\n",
      "    266       0.51513       \u001b[32m0.51615\u001b[0m      0.99802  1.34s\n",
      "    267       0.51516       \u001b[32m0.51609\u001b[0m      0.99819  1.35s\n",
      "    268       0.51475       0.51612      0.99734  1.34s\n",
      "    269       0.51495       0.51615      0.99766  1.33s\n",
      "    270       0.51496       0.51615      0.99770  1.34s\n",
      "    271       0.51479       \u001b[32m0.51609\u001b[0m      0.99748  1.46s\n",
      "    272       0.51497       0.51614      0.99773  1.35s\n",
      "    273       \u001b[36m0.51462\u001b[0m       \u001b[32m0.51608\u001b[0m      0.99718  1.35s\n",
      "    274       0.51481       0.51608      0.99755  1.34s\n",
      "    275       0.51482       \u001b[32m0.51607\u001b[0m      0.99759  1.34s\n",
      "    276       0.51479       0.51608      0.99750  1.34s\n",
      "    277       0.51483       0.51610      0.99755  1.34s\n",
      "    278       0.51479       0.51609      0.99749  1.34s\n",
      "    279       0.51522       \u001b[32m0.51606\u001b[0m      0.99838  1.33s\n",
      "    280       0.51470       0.51608      0.99733  1.34s\n",
      "    281       0.51493       0.51610      0.99774  1.33s\n",
      "    282       0.51500       0.51609      0.99789  1.35s\n",
      "    283       0.51468       \u001b[32m0.51605\u001b[0m      0.99735  1.35s\n",
      "    284       0.51499       \u001b[32m0.51600\u001b[0m      0.99804  1.33s\n",
      "    285       0.51479       \u001b[32m0.51598\u001b[0m      0.99769  1.35s\n",
      "    286       0.51482       0.51602      0.99767  1.36s\n",
      "    287       0.51467       0.51606      0.99732  1.34s\n",
      "    288       \u001b[36m0.51451\u001b[0m       0.51603      0.99705  1.35s\n",
      "    289       0.51464       0.51602      0.99734  1.34s\n",
      "    290       0.51499       0.51600      0.99806  1.33s\n",
      "    291       0.51489       0.51600      0.99785  1.34s\n",
      "    292       0.51461       0.51599      0.99732  1.33s\n",
      "    293       0.51463       0.51598      0.99738  1.34s\n",
      "    294       0.51471       \u001b[32m0.51596\u001b[0m      0.99758  1.34s\n",
      "    295       \u001b[36m0.51437\u001b[0m       0.51597      0.99689  1.35s\n",
      "    296       0.51480       \u001b[32m0.51596\u001b[0m      0.99776  1.34s\n",
      "    297       0.51453       \u001b[32m0.51593\u001b[0m      0.99729  1.34s\n",
      "    298       0.51475       \u001b[32m0.51590\u001b[0m      0.99776  1.33s\n",
      "    299       0.51459       0.51595      0.99736  1.33s\n",
      "    300       0.51487       0.51595      0.99789  1.35s\n"
     ]
    },
    {
     "data": {
      "text/plain": [
       "NeuralNet(X_tensor_type=None,\n",
       "     batch_iterator_test=<nolearn.lasagne.base.BatchIterator object at 0x7f13fa7d6290>,\n",
       "     batch_iterator_train=<nolearn.lasagne.base.BatchIterator object at 0x7f13fa7d6150>,\n",
       "     custom_scores=None, dropout0_p=0.1, dropout1_p=0.2,\n",
       "     hidden1_W=<lasagne.init.Uniform object at 0x7f13e06d2910>,\n",
       "     hidden1_num_units=100, hidden2_num_units=100, input_shape=(None, 131),\n",
       "     layers=[('input', <class 'lasagne.layers.input.InputLayer'>), ('dropout0', <class 'lasagne.layers.noise.DropoutLayer'>), ('hidden1', <class 'lasagne.layers.dense.DenseLayer'>), ('dropout1', <class 'lasagne.layers.noise.DropoutLayer'>), ('hidden2', <class 'lasagne.layers.dense.DenseLayer'>), ('output', <class 'lasagne.layers.dense.DenseLayer'>)],\n",
       "     loss=None, max_epochs=300, more_params={},\n",
       "     objective=<function objective at 0x7f13fa7d8230>,\n",
       "     objective_loss_function=<function binary_crossentropy at 0x7f13fb0ebf50>,\n",
       "     on_batch_finished=[],\n",
       "     on_epoch_finished=[<__main__.AdjustVariable object at 0x7f13e06d2390>, <__main__.AdjustVariable object at 0x7f13e06d2410>, <nolearn.lasagne.handlers.PrintLog instance at 0x7f13bc1c3710>],\n",
       "     on_training_finished=[],\n",
       "     on_training_started=[<nolearn.lasagne.handlers.PrintLayerInfo instance at 0x7f13bc1c33f8>],\n",
       "     output_nonlinearity=<theano.tensor.elemwise.Elemwise object at 0x7f13fd4759d0>,\n",
       "     output_num_units=1, regression=True,\n",
       "     train_split=<nolearn.lasagne.base.TrainSplit object at 0x7f13fa7d6310>,\n",
       "     update=<function nesterov_momentum at 0x7f13faf7f7d0>,\n",
       "     update_learning_rate=<TensorType(float64, scalar)>,\n",
       "     update_momentum=<TensorType(float64, scalar)>,\n",
       "     use_label_encoder=False, verbose=2,\n",
       "     y_tensor_type=TensorType(int32, matrix))"
      ]
     },
     "execution_count": 69,
     "metadata": {},
     "output_type": "execute_result"
    }
   ],
   "source": [
    "net = NeuralNet(\n",
    "    layers=[  \n",
    "        ('input', InputLayer),\n",
    "        ('dropout0', DropoutLayer),\n",
    "        ('hidden1', DenseLayer),\n",
    "        ('dropout1', DropoutLayer),\n",
    "        ('hidden2', DenseLayer),\n",
    "        ('output', DenseLayer),\n",
    "        ],\n",
    "\n",
    "    input_shape=(None, len(trainXsc[1])),\n",
    "    dropout0_p=0.1,\n",
    "    hidden1_num_units=100,\n",
    "    hidden1_W=Uniform(),\n",
    "    dropout1_p=0.2, \n",
    "    hidden2_num_units=100,\n",
    "    #hidden2_W=Uniform(),\n",
    "\n",
    "    output_nonlinearity=sigmoid,\n",
    "    output_num_units=1, \n",
    "    update=nesterov_momentum,\n",
    "    update_learning_rate=theano.shared(np.float64(0.0001)),\n",
    "    update_momentum=theano.shared(np.float64(0.9)),    \n",
    "    # Decay the learning rate\n",
    "    on_epoch_finished=[AdjustVariable('update_learning_rate', start=0.0001, stop=0.00001),\n",
    "                       AdjustVariable('update_momentum', start=0.9, stop=0.99),\n",
    "                       ],\n",
    "    regression=True,\n",
    "    y_tensor_type = T.imatrix,                   \n",
    "    objective_loss_function = binary_crossentropy,\n",
    "    #batch_iterator_train = BatchIterator(batch_size = 256),\n",
    "    max_epochs=300, \n",
    "    eval_size=0.1,\n",
    "    #train_split =0.0,\n",
    "    verbose=2,\n",
    "    )\n",
    "\n",
    "net.fit(trainXsc, trainY32)\n"
   ]
  },
  {
   "cell_type": "code",
   "execution_count": 70,
   "metadata": {
    "collapsed": false
   },
   "outputs": [],
   "source": [
    "predictions = np.vstack([predictions,net.predict(testXsc)[:,0]])"
   ]
  },
  {
   "cell_type": "code",
   "execution_count": 71,
   "metadata": {
    "collapsed": false
   },
   "outputs": [
    {
     "data": {
      "image/png": "[encoded data removed]",
      "text/plain": [
       "<matplotlib.figure.Figure at 0x7f13bcc6f150>"
      ]
     },
     "metadata": {},
     "output_type": "display_data"
    }
   ],
   "source": [
    "corner.corner(predictions.T, labels=['xboost','extraTrees','lasagne'],quantiles=[0.16,0.5,0.84],\n",
    "                show_titles=True, title_args={\"fontsize\": 12},\n",
    "                plot_datapoints=True, fill_contours=True, levels=[0.68, 0.95], color='b', bins=40, smooth=1.0)\n",
    "\n",
    "plt.show()\n"
   ]
  },
  {
   "cell_type": "code",
   "execution_count": 72,
   "metadata": {
    "collapsed": false
   },
   "outputs": [],
   "source": [
    "output = pd.DataFrame({'ID': test['ID'],'PredictedProb': np.mean(predictions,axis=0)})\n",
    "output.to_csv('submission_tripple.csv',index=False)"
   ]
  },
  {
   "cell_type": "code",
   "execution_count": null,
   "metadata": {
    "collapsed": true
   },
   "outputs": [],
   "source": []
  }
 ],
 "metadata": {
  "kernelspec": {
   "display_name": "Python 2",
   "language": "python",
   "name": "python2"
  },
  "language_info": {
   "codemirror_mode": {
    "name": "ipython",
    "version": 2
   },
   "file_extension": ".py",
   "mimetype": "text/x-python",
   "name": "python",
   "nbconvert_exporter": "python",
   "pygments_lexer": "ipython2",
   "version": "2.7.10"
  }
 },
 "nbformat": 4,
 "nbformat_minor": 0
}
