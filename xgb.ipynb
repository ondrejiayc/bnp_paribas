{
 "cells": [
  {
   "cell_type": "markdown",
   "metadata": {},
   "source": [
    "This one heavily inspired by https://www.kaggle.com/cbrogan/titanic/xgboost-example-python/files"
   ]
  },
  {
   "cell_type": "code",
   "execution_count": 72,
   "metadata": {
    "collapsed": false
   },
   "outputs": [],
   "source": [
    "import pandas as pd\n",
    "import numpy as np\n",
    "import xgboost as xgb\n",
    "from sklearn.preprocessing import Imputer,LabelEncoder\n",
    "from sklearn.base import TransformerMixin\n",
    "from sklearn.ensemble import ExtraTreesClassifier\n"
   ]
  },
  {
   "cell_type": "code",
   "execution_count": 73,
   "metadata": {
    "collapsed": true
   },
   "outputs": [],
   "source": [
    "# taken from http://stackoverflow.com/questions/25239958/impute-categorical-missing-values-in-scikit-learn\n",
    "#updated for ints\n",
    "\n",
    "class DataFrameImputer(TransformerMixin):\n",
    "\n",
    "    def __init__(self):\n",
    "        \"\"\"Impute missing values.\n",
    "\n",
    "        Columns of dtype object are imputed with the most frequent value \n",
    "        in column.\n",
    "\n",
    "        Columns of other types are imputed with mean of column.\n",
    "\n",
    "        \"\"\"\n",
    "    def fit(self, X, y=None):\n",
    "\n",
    "        self.fill = pd.Series([X[c].value_counts().index[0]\n",
    "            if X[c].dtype == np.dtype('O') else X[c].mean() if X[c].dtype == np.dtype('float64') else X[c].median() \n",
    "                               for c in X],\n",
    "            index=X.columns)\n",
    "\n",
    "        return self\n",
    "\n",
    "    def transform(self, X, y=None):\n",
    "        return X.fillna(self.fill)\n"
   ]
  },
  {
   "cell_type": "code",
   "execution_count": 74,
   "metadata": {
    "collapsed": true
   },
   "outputs": [],
   "source": [
    "train = pd.read_csv('data/train.csv')\n",
    "test = pd.read_csv('data/test.csv')"
   ]
  },
  {
   "cell_type": "code",
   "execution_count": 75,
   "metadata": {
    "collapsed": false
   },
   "outputs": [],
   "source": [
    "keysToUse = set(train.keys())\n",
    "\n",
    "keysToUse.remove('ID')\n",
    "keysToUse.remove('target')\n",
    "keysToUse = list(keysToUse)\n",
    "\n",
    "nonNumericKeys = list(train.select_dtypes(include=['object']).keys())"
   ]
  },
  {
   "cell_type": "code",
   "execution_count": 76,
   "metadata": {
    "collapsed": false
   },
   "outputs": [],
   "source": [
    "bigX = train[keysToUse].append(test[keysToUse])\n",
    "\n",
    "imput = False\n",
    "\n",
    "if imput:\n",
    "    bigXimputed = DataFrameImputer().fit_transform(bigX)\n",
    "    le = LabelEncoder()\n",
    "    for col in nonNumericKeys:\n",
    "        bigXimputed[col] = le.fit_transform(bigXimputed[col])\n",
    "    trainX = bigXimputed[:train.shape[0]].as_matrix()\n",
    "    testX = bigXimputed[train.shape[0]:].as_matrix()\n",
    "else:\n",
    "    for col in bigX:\n",
    "        if col in nonNumericKeys:\n",
    "            bigX[col], tmp_indexer = pd.factorize(bigX[col])\n",
    "        else:\n",
    "            bigX.loc[bigX[col].isnull(), col] = -9999 #train_series.mean()\n",
    "    trainX = bigX[:train.shape[0]].as_matrix()\n",
    "    testX = bigX[train.shape[0]:].as_matrix()"
   ]
  },
  {
   "cell_type": "code",
   "execution_count": 77,
   "metadata": {
    "collapsed": true
   },
   "outputs": [],
   "source": [
    "trainY = train['target']"
   ]
  },
  {
   "cell_type": "code",
   "execution_count": 78,
   "metadata": {
    "collapsed": false
   },
   "outputs": [
    {
     "name": "stdout",
     "output_type": "stream",
     "text": [
      "[ 0.29482785  0.90736604  0.88187772 ...,  0.87648571  0.93920881\n",
      "  0.48620355]\n"
     ]
    }
   ],
   "source": [
    "gbm = xgb.XGBClassifier(max_depth=10, n_estimators=700, learning_rate=0.04,nthread=4,subsample=0.9,\n",
    "                        colsample_bytree=0.9)\n",
    "gbm.fit(trainX, trainY)\n",
    "\n",
    "predictionsGbm = gbm.predict_proba(testX)[:,1]\n",
    "print predictions"
   ]
  },
  {
   "cell_type": "code",
   "execution_count": 79,
   "metadata": {
    "collapsed": false
   },
   "outputs": [],
   "source": [
    "ext = ExtraTreesClassifier(n_estimators=700,max_features=70,n_jobs=4,criterion= 'entropy', min_samples_split= 4,\n",
    "                            max_depth=20, min_samples_leaf=2)\n",
    "\n",
    "ext.fit(trainX,trainY)\n",
    "\n",
    "predictionsExt = ext.predict_proba(testX)[:,1]"
   ]
  },
  {
   "cell_type": "code",
   "execution_count": 35,
   "metadata": {
    "collapsed": true
   },
   "outputs": [],
   "source": [
    "output = pd.DataFrame({'ID': test['ID'],'PredictedProb': predictions})\n",
    "output.to_csv('submission.csv',index=False)"
   ]
  },
  {
   "cell_type": "code",
   "execution_count": 80,
   "metadata": {
    "collapsed": false
   },
   "outputs": [
    {
     "name": "stdout",
     "output_type": "stream",
     "text": [
      "[ 0.07822778  0.90490222  0.68608886 ...,  0.93501407  0.96718204\n",
      "  0.55719835]\n",
      "[ 0.33704203  0.79291506  0.86980619 ...,  0.90172146  0.94633912\n",
      "  0.56963426]\n"
     ]
    }
   ],
   "source": [
    "print predictionsGbm\n",
    "print predictionsExt"
   ]
  },
  {
   "cell_type": "code",
   "execution_count": 81,
   "metadata": {
    "collapsed": false
   },
   "outputs": [
    {
     "name": "stdout",
     "output_type": "stream",
     "text": [
      "[-0.25881425  0.11198716 -0.18371733 ...,  0.03329261  0.02084292\n",
      " -0.01243591]\n"
     ]
    }
   ],
   "source": [
    "print predictionsGbm-predictionsExt"
   ]
  },
  {
   "cell_type": "code",
   "execution_count": 84,
   "metadata": {
    "collapsed": false
   },
   "outputs": [
    {
     "data": {
      "image/png": "[encoded data removed]",
      "text/plain": [
       "<matplotlib.figure.Figure at 0x7fdcbe568250>"
      ]
     },
     "metadata": {},
     "output_type": "display_data"
    }
   ],
   "source": [
    "import matplotlib.pyplot as plt\n",
    "\n",
    "%matplotlib inline\n",
    "\n",
    "x,y,z = plt.hist(predictionsGbm-predictionsExt,bins=1000)"
   ]
  },
  {
   "cell_type": "code",
   "execution_count": 85,
   "metadata": {
    "collapsed": true
   },
   "outputs": [],
   "source": [
    "output = pd.DataFrame({'ID': test['ID'],'PredictedProb': 0.5*(predictionsGbm+predictionsExt)})\n",
    "output.to_csv('submission_avg.csv',index=False)"
   ]
  },
  {
   "cell_type": "code",
   "execution_count": null,
   "metadata": {
    "collapsed": true
   },
   "outputs": [],
   "source": [
    "(predictionsGbm-)"
   ]
  }
 ],
 "metadata": {
  "kernelspec": {
   "display_name": "Python 2",
   "language": "python",
   "name": "python2"
  },
  "language_info": {
   "codemirror_mode": {
    "name": "ipython",
    "version": 2
   },
   "file_extension": ".py",
   "mimetype": "text/x-python",
   "name": "python",
   "nbconvert_exporter": "python",
   "pygments_lexer": "ipython2",
   "version": "2.7.11"
  }
 },
 "nbformat": 4,
 "nbformat_minor": 0
}
